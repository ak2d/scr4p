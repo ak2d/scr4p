{
 "cells": [
  {
   "cell_type": "code",
   "execution_count": 1,
   "metadata": {},
   "outputs": [],
   "source": [
    "import pandas as pd"
   ]
  },
  {
   "cell_type": "code",
   "execution_count": 31,
   "metadata": {},
   "outputs": [],
   "source": [
    "df = pd.read_excel ('/Users/mathiasguillemot/Documents/GitHub/scr4p/jeu_de_donnees_modifie.xlsx', 'Sheet1')"
   ]
  },
  {
   "cell_type": "code",
   "execution_count": null,
   "metadata": {},
   "outputs": [
    {
     "name": "stdout",
     "output_type": "stream",
     "text": [
      "0         Le-Haillan_01\n",
      "1         Le-Haillan_01\n",
      "2         Le-Haillan_01\n",
      "3         Le-Haillan_01\n",
      "4         Le-Haillan_01\n",
      "              ...      \n",
      "573170        Nantes_07\n",
      "573171        Nantes_07\n",
      "573172        Nantes_07\n",
      "573173        Nantes_07\n",
      "573174        Nantes_07\n",
      "Name: numero, Length: 573175, dtype: object\n"
     ]
    }
   ],
   "source": [
    "print (df[\"numero\"])"
   ]
  },
  {
   "cell_type": "code",
   "execution_count": 11,
   "metadata": {},
   "outputs": [],
   "source": [
    "excluded = []\n",
    "for i in df[\"numero\"]:\n",
    "    if i not in excluded:\n",
    "        excluded.append(i)"
   ]
  },
  {
   "cell_type": "code",
   "execution_count": 12,
   "metadata": {},
   "outputs": [
    {
     "name": "stdout",
     "output_type": "stream",
     "text": [
      "['Le-Haillan_01', 'Rennes_01', 'Strasbourg_07', 'Artigues-près-Bordeaux_01', 'Orléans_03', 'Paris_8e_02', 'Strasbourg_04', 'Orléans_01', 'Orleans_07', 'Mulhouse_03', 'Lille_02', 'Bordeaux_02', 'Martignas-sur-Jalle_01', 'Rennes_07', 'Parempuyre_01', 'Saint-Aubin-de-Médoc_01', 'Nantes_01', 'Cenon_01', 'Rennes_05', 'Bruges_01', 'Marseille_01', 'Mulhouse_01', 'Marseille_02', 'Strasbourg_03', 'Floirac_01', 'Nantes_02', 'Orleans_06', 'Orleans_05', 'Ambares-et-Lagrave_01', 'Orléans_02', 'Bordeaux_01', 'Mérignac_02', 'Rennes_04', 'Saint-Médard-En-Jalles_01', 'Saint-Louis-de-Montferrand_01', 'Ambès_01', 'Saint-Vincent-de-Paul_01', 'Strasbourg_02', 'Lille_01', 'Lille_04', 'Carbon-Blanc_01', 'Strasbourg_06', 'Bouliac_01', 'Rennes_02', 'Lille_05', 'Bordeaux_03', 'Rennes_10', 'Rennes_08', 'Nantes_03', 'Mérignac_01', 'Bassens_01', 'Gradignan_01', 'Pessac_01', 'Bordeaux_04', 'Eysines_01', 'Lormont_01', 'Talence_01', 'Lille_03', 'Bordeaux_05', 'Le Bouscat_01', 'Strasbourg_08', 'Rennes_06', 'Marseille_03', 'Bègles_01', 'Orleans_04', 'Strasbourg_05', 'Paris_8e_01', 'Villenave-d’Ornon_01', 'Blanquefort_01', 'Rennes_03', 'Le Taillan-Médoc_01', 'Paris_8e_03', 'Mulhouse_02', 'Strasbourg_01', 'Rennes_09', 'Nantes_31', 'Nantes_42', 'Nantes_51', 'Nantes_14', 'Nantes_11', 'Nantes_41', 'Nantes_12', 'Nantes_45', 'Nantes_44', 'Nantes_27', 'Nantes_22', 'Nantes_17', 'Nantes_35', 'Nantes_36', 'Nantes_21', 'Nantes_05', 'Nantes_39', 'Nantes_15', 'Nantes_40', 'Nantes_24', 'Nantes_43', 'Nantes_18', 'Nantes_20', 'Nantes_06', 'Nantes_46', 'Nantes_50', 'Nantes_13', 'Nantes_30', 'Nantes_23', 'Nantes_25', 'Nantes_38', 'Nantes_07', 'Nantes_33', 'Nantes_49', 'Nantes_09', 'Nantes_16', 'Nantes_26', 'Nantes_32', 'Nantes_47', 'Nantes_29', 'Nantes_48', 'Nantes_04', 'Nantes_28', 'Nantes_34', 'Nantes_19', 'Nantes_37', 'Nantes_08']\n"
     ]
    }
   ],
   "source": [
    "print(excluded)"
   ]
  },
  {
   "cell_type": "code",
   "execution_count": 10,
   "metadata": {},
   "outputs": [],
   "source": [
    "first_id = df[\"id\"].iat[-1]+1"
   ]
  },
  {
   "cell_type": "code",
   "execution_count": 32,
   "metadata": {},
   "outputs": [],
   "source": [
    "#print(df)\n",
    "df2 = pd.DataFrame({\"id\": [first_id],\"E_volt_par_metre\": [2.5], \"E^2\": [6.6564], \"date\": [\"14/04/2021 00:00:00\"], \"ville\": [\"Palaiseau\"], \"code_postal\": [91120],\"numero\": [\"Palaiseau_1\"], \"Année\": [2021], \"Mois\": [4], \"Jour\" : [14]})\n",
    "df3 = pd.concat([df,df2])"
   ]
  },
  {
   "cell_type": "code",
   "execution_count": 55,
   "metadata": {},
   "outputs": [],
   "source": [
    "excluded = []\n",
    "df_infos = pd.DataFrame({'E_volt_par_metre': [], 'date': [], 'ville': [], 'code_postal': [], 'numero': []})\n",
    "for index,row in df.iterrows():\n",
    "    if row[\"numero\"] not in excluded:\n",
    "        excluded.append(row[\"numero\"])\n",
    "        df_prov = pd.DataFrame({'E_volt_par_metre': [row[\"E_volt_par_metre\"]], 'date': [row[\"date\"]], 'ville': [row[\"ville\"]], 'code_postal': [row[\"code_postal\"]], 'numero': [row[\"numero\"]]})\n",
    "        df_infos=pd.concat([df_infos,df_prov])\n",
    "\n"
   ]
  },
  {
   "cell_type": "code",
   "execution_count": 56,
   "metadata": {},
   "outputs": [
    {
     "name": "stdout",
     "output_type": "stream",
     "text": [
      "['Le-Haillan_01', 'Rennes_01', 'Strasbourg_07', 'Artigues-près-Bordeaux_01', 'Orléans_03', 'Paris_8e_02', 'Strasbourg_04', 'Orléans_01', 'Orleans_07', 'Mulhouse_03', 'Lille_02', 'Bordeaux_02', 'Martignas-sur-Jalle_01', 'Rennes_07', 'Parempuyre_01', 'Saint-Aubin-de-Médoc_01', 'Nantes_01', 'Cenon_01', 'Rennes_05', 'Bruges_01', 'Marseille_01', 'Mulhouse_01', 'Marseille_02', 'Strasbourg_03', 'Floirac_01', 'Nantes_02', 'Orleans_06', 'Orleans_05', 'Ambares-et-Lagrave_01', 'Orléans_02', 'Bordeaux_01', 'Mérignac_02', 'Rennes_04', 'Saint-Médard-En-Jalles_01', 'Saint-Louis-de-Montferrand_01', 'Ambès_01', 'Saint-Vincent-de-Paul_01', 'Strasbourg_02', 'Lille_01', 'Lille_04', 'Carbon-Blanc_01', 'Strasbourg_06', 'Bouliac_01', 'Rennes_02', 'Lille_05', 'Bordeaux_03', 'Rennes_10', 'Rennes_08', 'Nantes_03', 'Mérignac_01', 'Bassens_01', 'Gradignan_01', 'Pessac_01', 'Bordeaux_04', 'Eysines_01', 'Lormont_01', 'Talence_01', 'Lille_03', 'Bordeaux_05', 'Le Bouscat_01', 'Strasbourg_08', 'Rennes_06', 'Marseille_03', 'Bègles_01', 'Orleans_04', 'Strasbourg_05', 'Paris_8e_01', 'Villenave-d’Ornon_01', 'Blanquefort_01', 'Rennes_03', 'Le Taillan-Médoc_01', 'Paris_8e_03', 'Mulhouse_02', 'Strasbourg_01', 'Rennes_09', 'Nantes_31', 'Nantes_42', 'Nantes_51', 'Nantes_14', 'Nantes_11', 'Nantes_41', 'Nantes_12', 'Nantes_45', 'Nantes_44', 'Nantes_27', 'Nantes_22', 'Nantes_17', 'Nantes_35', 'Nantes_36', 'Nantes_21', 'Nantes_05', 'Nantes_39', 'Nantes_15', 'Nantes_40', 'Nantes_24', 'Nantes_43', 'Nantes_18', 'Nantes_20', 'Nantes_06', 'Nantes_46', 'Nantes_50', 'Nantes_13', 'Nantes_30', 'Nantes_23', 'Nantes_25', 'Nantes_38', 'Nantes_07', 'Nantes_33', 'Nantes_49', 'Nantes_09', 'Nantes_16', 'Nantes_26', 'Nantes_32', 'Nantes_47', 'Nantes_29', 'Nantes_48', 'Nantes_04', 'Nantes_28', 'Nantes_34', 'Nantes_19', 'Nantes_37', 'Nantes_08']\n",
      "    E_volt_par_metre       date                   ville  code_postal  \\\n",
      "0               2.99 2021-04-14              Le Haillan      33185.0   \n",
      "0               0.27 2021-04-23                  Rennes      35000.0   \n",
      "0               0.11 2022-04-26                Entzheim      67960.0   \n",
      "0               1.13 2021-03-23  Artigues-près-Bordeaux      33370.0   \n",
      "0               0.32 2021-09-06                 Orléans      45000.0   \n",
      "..               ...        ...                     ...          ...   \n",
      "0               1.90 2021-11-05                  Nantes      44000.0   \n",
      "0               0.48 2021-12-31                  Nantes      44000.0   \n",
      "0               0.67 2021-12-31                  Nantes      44000.0   \n",
      "0               1.56 2021-12-31                  Nantes      44000.0   \n",
      "0               0.14 2021-12-31                  Nantes      44000.0   \n",
      "\n",
      "                       numero  \n",
      "0               Le-Haillan_01  \n",
      "0                   Rennes_01  \n",
      "0               Strasbourg_07  \n",
      "0   Artigues-près-Bordeaux_01  \n",
      "0                  Orléans_03  \n",
      "..                        ...  \n",
      "0                   Nantes_28  \n",
      "0                   Nantes_34  \n",
      "0                   Nantes_19  \n",
      "0                   Nantes_37  \n",
      "0                   Nantes_08  \n",
      "\n",
      "[122 rows x 5 columns]\n"
     ]
    }
   ],
   "source": [
    "print(excluded)\n",
    "print(df_infos)"
   ]
  },
  {
   "cell_type": "code",
   "execution_count": 34,
   "metadata": {},
   "outputs": [],
   "source": [
    "df3.to_excel('/Users/mathiasguillemot/Documents/GitHub/scr4p/jeu_de_donnees_modifie.xlsx', sheet_name='Sheet1', index=False) "
   ]
  },
  {
   "cell_type": "code",
   "execution_count": 59,
   "metadata": {},
   "outputs": [
    {
     "name": "stdout",
     "output_type": "stream",
     "text": [
      "        E_volt_par_metre                 date         numero\n",
      "0                   2.99  2021-04-14 00:00:00  Le-Haillan_01\n",
      "1                   2.58  2021-04-14 00:00:00  Le-Haillan_01\n",
      "2                   3.22  2021-04-14 00:00:00  Le-Haillan_01\n",
      "3                   3.91  2021-04-14 00:00:00  Le-Haillan_01\n",
      "4                   4.41  2021-04-14 00:00:00  Le-Haillan_01\n",
      "...                  ...                  ...            ...\n",
      "573171              0.63  2022-08-31 00:00:00      Nantes_07\n",
      "573172              0.53  2022-09-02 00:00:00      Nantes_07\n",
      "573173              0.62  2022-09-04 00:00:00      Nantes_07\n",
      "573174              0.50  2022-09-11 00:00:00      Nantes_07\n",
      "0                   2.50  14/04/2021 00:00:00    Palaiseau_1\n",
      "\n",
      "[573176 rows x 3 columns]\n"
     ]
    }
   ],
   "source": [
    "#print(df[\"date\"])\n",
    "df3.pop(\"Mois\")\n",
    "df3.pop(\"Jour\")\n",
    "print(df3)"
   ]
  },
  {
   "cell_type": "code",
   "execution_count": 40,
   "metadata": {},
   "outputs": [
    {
     "name": "stdout",
     "output_type": "stream",
     "text": [
      "id                               573175\n",
      "E_volt_par_metre                    0.5\n",
      "E^2                                0.25\n",
      "date                2022-09-11 00:00:00\n",
      "ville                            Nantes\n",
      "code_postal                       44000\n",
      "numero                        Nantes_07\n",
      "Année                              2022\n",
      "Mois                                  9\n",
      "Jour                                 11\n",
      "Name: 573174, dtype: object\n"
     ]
    }
   ],
   "source": [
    "for index,row in df.iterrows():\n",
    "    pass\n",
    "print(row)"
   ]
  }
 ],
 "metadata": {
  "kernelspec": {
   "display_name": "Python 3.9.6 64-bit",
   "language": "python",
   "name": "python3"
  },
  "language_info": {
   "codemirror_mode": {
    "name": "ipython",
    "version": 3
   },
   "file_extension": ".py",
   "mimetype": "text/x-python",
   "name": "python",
   "nbconvert_exporter": "python",
   "pygments_lexer": "ipython3",
   "version": "3.9.6"
  },
  "orig_nbformat": 4,
  "vscode": {
   "interpreter": {
    "hash": "31f2aee4e71d21fbe5cf8b01ff0e069b9275f58929596ceb00d14d90e3e16cd6"
   }
  }
 },
 "nbformat": 4,
 "nbformat_minor": 2
}
