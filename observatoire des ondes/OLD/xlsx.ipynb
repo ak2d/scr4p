{
 "cells": [
  {
   "cell_type": "code",
   "execution_count": 2,
   "metadata": {},
   "outputs": [],
   "source": [
    "import pandas as pd"
   ]
  },
  {
   "cell_type": "code",
   "execution_count": 17,
   "metadata": {},
   "outputs": [
    {
     "name": "stdout",
     "output_type": "stream",
     "text": [
      "                       Name  Age     Sex\n",
      "0   Braund, Mr. Owen Harris   22    male\n",
      "1  Allen, Mr. William Henry   35    male\n",
      "2  Bonnell, Miss. Elizabeth   58  female\n",
      "0                   Mathias   21    male\n",
      "1                      Anne   22  female\n"
     ]
    }
   ],
   "source": [
    "df = pd.read_excel ('/Users/mathiasguillemot/Documents/GitHub/scr4p/jeu_de_donnees_initial.xlsx', 'Sheet1')\n",
    "\n",
    "df[\"numero\"]\n",
    "\n",
    "df = pd.DataFrame(\n",
    "     {\n",
    "         \"Name\": [\n",
    "             \"Braund, Mr. Owen Harris\",\n",
    "             \"Allen, Mr. William Henry\",\n",
    "             \"Bonnell, Miss. Elizabeth\",\n",
    "         ],\n",
    "         \"Age\": [22, 35, 58],\n",
    "         \"Sex\": [\"male\", \"male\", \"female\"],\n",
    "     }\n",
    " )\n",
    "\n",
    "name = [\"Mathias\", \"Anne\"]\n",
    "ages = [21, 22]\n",
    "sex = [\"male\", \"female\"]\n",
    "\n",
    "df2 = pd.DataFrame({\"Name\": name, \"Age\": ages, \"Sex\": sex})\n",
    "\n",
    "new = pd.concat([df,df2])\n",
    "print(new)"
   ]
  },
  {
   "cell_type": "code",
   "execution_count": 18,
   "metadata": {},
   "outputs": [],
   "source": [
    "new.to_excel(\"/Users/mathiasguillemot/Documents/GitHub/scr4p/text.xlsx\", sheet_name='Sheet1', index=False)"
   ]
  }
 ],
 "metadata": {
  "kernelspec": {
   "display_name": "Python 3.9.6 64-bit",
   "language": "python",
   "name": "python3"
  },
  "language_info": {
   "codemirror_mode": {
    "name": "ipython",
    "version": 3
   },
   "file_extension": ".py",
   "mimetype": "text/x-python",
   "name": "python",
   "nbconvert_exporter": "python",
   "pygments_lexer": "ipython3",
   "version": "3.9.6"
  },
  "orig_nbformat": 4,
  "vscode": {
   "interpreter": {
    "hash": "31f2aee4e71d21fbe5cf8b01ff0e069b9275f58929596ceb00d14d90e3e16cd6"
   }
  }
 },
 "nbformat": 4,
 "nbformat_minor": 2
}
